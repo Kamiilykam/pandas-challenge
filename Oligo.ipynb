{
  "nbformat": 4,
  "nbformat_minor": 0,
  "metadata": {
    "colab": {
      "provenance": [],
      "authorship_tag": "ABX9TyOI/n2sHd4bsZNIAxUG9bwS",
      "include_colab_link": true
    },
    "kernelspec": {
      "name": "python3",
      "display_name": "Python 3"
    },
    "language_info": {
      "name": "python"
    }
  },
  "cells": [
    {
      "cell_type": "markdown",
      "metadata": {
        "id": "view-in-github",
        "colab_type": "text"
      },
      "source": [
        "<a href=\"https://colab.research.google.com/github/Kamiilykam/pandas-challenge/blob/master/Oligo.ipynb\" target=\"_parent\"><img src=\"https://colab.research.google.com/assets/colab-badge.svg\" alt=\"Open In Colab\"/></a>"
      ]
    },
    {
      "cell_type": "markdown",
      "source": [
        "# Install Packages\n"
      ],
      "metadata": {
        "id": "wLIzkge9pYTG"
      }
    },
    {
      "cell_type": "code",
      "source": [
        "pip install biopython"
      ],
      "metadata": {
        "id": "-a3m429_tUD_",
        "colab": {
          "base_uri": "https://localhost:8080/"
        },
        "outputId": "6b62c9ad-faef-436b-87fa-6f24ee875135"
      },
      "execution_count": 1,
      "outputs": [
        {
          "output_type": "stream",
          "name": "stdout",
          "text": [
            "Requirement already satisfied: biopython in /usr/local/lib/python3.10/dist-packages (1.83)\n",
            "Requirement already satisfied: numpy in /usr/local/lib/python3.10/dist-packages (from biopython) (1.23.5)\n"
          ]
        }
      ]
    },
    {
      "cell_type": "code",
      "source": [
        "import pandas as pd"
      ],
      "metadata": {
        "id": "Ct9yc-NrKsl2"
      },
      "execution_count": 2,
      "outputs": []
    },
    {
      "cell_type": "code",
      "source": [
        "from Bio.Seq import Seq\n",
        "from Bio.SeqUtils import MeltingTemp"
      ],
      "metadata": {
        "id": "yfgkijoYFe8_"
      },
      "execution_count": 3,
      "outputs": []
    },
    {
      "cell_type": "code",
      "source": [
        "def read_mrna_sequence(file_path):\n",
        "    with open(file_path, 'r') as file:\n",
        "        return Seq(file.read().strip())"
      ],
      "metadata": {
        "id": "6jGhzyqsFofZ"
      },
      "execution_count": 4,
      "outputs": []
    },
    {
      "cell_type": "code",
      "source": [
        "def generate_antisense_oligos(mrna_sequence, oligo_length=25):\n",
        "    antisense_oligos = [mrna_sequence.reverse_complement()[i:i+oligo_length] for i in range(len(mrna_sequence) - (oligo_length - 1))]\n",
        "    return antisense_oligos"
      ],
      "metadata": {
        "id": "MUn5hxGgF0Th"
      },
      "execution_count": 16,
      "outputs": []
    },
    {
      "cell_type": "code",
      "source": [
        "def calculate_minimum_free_energy(oligo):\n",
        "    return MeltingTemp.Tm_Wallace(oligo)"
      ],
      "metadata": {
        "id": "wLI-DyIfF4PY"
      },
      "execution_count": 17,
      "outputs": []
    },
    {
      "cell_type": "code",
      "source": [
        "def calculate_gc_content(oligo):\n",
        "    return Seq(str(oligo)).count(\"G\") + Seq(str(oligo)).count(\"C\")"
      ],
      "metadata": {
        "id": "PcrMYcP1F7gI"
      },
      "execution_count": 18,
      "outputs": []
    },
    {
      "cell_type": "code",
      "source": [
        "from Bio.Seq import Seq\n",
        "from Bio.SeqUtils import MeltingTemp\n",
        "\n",
        "def read_mrna_sequence(file_path):\n",
        "    with open(file_path, 'r') as file:\n",
        "        return Seq(file.read().strip())\n",
        "\n",
        "def generate_antisense_oligos(mrna_sequence, oligo_length=25):\n",
        "    antisense_oligos = [mrna_sequence.reverse_complement()[i:i+oligo_length] for i in range(len(mrna_sequence) - (oligo_length - 1))]\n",
        "    return antisense_oligos\n",
        "\n",
        "def calculate_minimum_free_energy(oligo):\n",
        "    return MeltingTemp.Tm_Wallace(str(oligo))\n",
        "\n",
        "def calculate_gc_content(oligo):\n",
        "    return Seq(str(oligo)).count(\"G\") + Seq(str(oligo)).count(\"C\")\n",
        "\n",
        "def main():\n",
        "    # Replace 'your_mrna_sequence.txt' with the actual file path containing mRNA sequence\n",
        "    mrna_sequence_file = '/content/NC_000011.10[62880098..62889656].fa.txt'\n",
        "\n",
        "    mrna_sequence = read_mrna_sequence(mrna_sequence_file)\n",
        "    antisense_oligos = generate_antisense_oligos(mrna_sequence)\n",
        "\n",
        "    alignments_data = []\n",
        "\n",
        "    for oligo in antisense_oligos:\n",
        "        min_free_energy = calculate_minimum_free_energy(oligo)\n",
        "        gc_content = calculate_gc_content(oligo)\n",
        "        alignments_data.append((oligo, min_free_energy, gc_content))\n",
        "\n",
        "    # Sort alignments by minimum free energy\n",
        "    alignments_data.sort(key=lambda x: x[1])\n",
        "\n",
        "  # Print the chart\n",
        "    print(\"Oligo\\t\\tMinimum Free Energy\\tGC Content\")\n",
        "    for oligo, min_free_energy, gc_content in alignments_data:\n",
        "        print(f\"{oligo}\\t{min_free_energy:.2f}°C\\t{gc_content}%\")\n",
        "\n",
        "if __name__ == \"__main__\":\n",
        "    main()"
      ],
      "metadata": {
        "id": "5jb0BkcAI-f6"
      },
      "execution_count": null,
      "outputs": []
    },
    {
      "cell_type": "code",
      "source": [
        "from Bio.Seq import Seq\n",
        "from Bio.SeqUtils import MeltingTemp\n",
        "import csv\n",
        "import pandas as pd\n",
        "import matplotlib.pyplot as plt\n",
        "import seaborn as sns\n",
        "\n",
        "def read_mrna_sequence(file_path):\n",
        "    with open(file_path, 'r') as file:\n",
        "        return Seq(file.read().strip())\n",
        "\n",
        "def generate_antisense_oligos(mrna_sequence):\n",
        "    antisense_oligos = [mrna_sequence.reverse_complement()[i:i+25] for i in range(len(mrna_sequence) - 24)]\n",
        "    return antisense_oligos\n",
        "\n",
        "def calculate_minimum_free_energy(oligo, temperature):\n",
        "    delta_g = -MeltingTemp.Tm_Wallace(str(oligo)) * (1.987 / 1000) * (temperature + 273.15) * 1.0 / 1000\n",
        "    return delta_g\n",
        "\n",
        "def calculate_gc_content(oligo):\n",
        "    return Seq(str(oligo)).count(\"G\") + Seq(str(oligo)).count(\"C\")\n",
        "\n",
        "def write_to_csv(data, filename):\n",
        "    with open(filename, 'w', newline='') as file:\n",
        "        writer = csv.writer(file)\n",
        "        writer.writerow(['Oligo', 'Minimum Free Energy (kcal/mol)', 'GC Content (%)', ])\n",
        "        writer.writerows(data)\n",
        "\n",
        "def main():\n",
        "    mrna_sequence_file = '/content/NC_000011.10[62880098..62889656].fa.txt'\n",
        "    temperature = 37\n",
        "\n",
        "    mrna_sequence = read_mrna_sequence(mrna_sequence_file)\n",
        "    antisense_oligos = generate_antisense_oligos(mrna_sequence)\n",
        "\n",
        "    alignments_data = []\n",
        "\n",
        "    for oligo in antisense_oligos:\n",
        "        delta_g = calculate_minimum_free_energy(oligo, temperature)\n",
        "        gc_content = calculate_gc_content(oligo)\n",
        "        alignments_data.append((str(oligo), delta_g, gc_content))\n",
        "\n",
        "    # Sort alignments by minimum free energy\n",
        "    alignments_data.sort(key=lambda x: x[1])\n",
        "\n",
        "    # Write data to CSV file\n",
        "    csv_filename = 'oligo_dataofficial.csv'\n",
        "    write_to_csv(alignments_data, csv_filename)\n",
        "    print(f'Data written to {csv_filename}')\n",
        "\n",
        "    # Load data into a pandas DataFrame\n",
        "    df = pd.DataFrame(alignments_data, columns=['Oligo', 'Minimum Free Energy (kcal/mol)', 'GC Content (%)'])\n",
        "\n",
        "    # Perform statistical analysis\n",
        "    statistical_summary = df.describe()\n",
        "\n",
        "    # Print statistical summary\n",
        "    print(\"\\nStatistical Summary:\")\n",
        "    print(statistical_summary)\n",
        "\n",
        "    # Plot the graph\n",
        "    plt.figure(figsize=(10, 6))\n",
        "    sns.scatterplot(data=df.head(10), x='GC Content (%)', y='Minimum Free Energy (kcal/mol)', hue='Oligo', s=100)\n",
        "    plt.title('GC Content vs Minimum Free Energy')\n",
        "    plt.xlabel('GC Content (%)')\n",
        "    plt.ylabel('Minimum Free Energy (kcal/mol)')\n",
        "    plt.legend(bbox_to_anchor=(1.05, 1), loc='upper left')\n",
        "    plt.show()\n",
        "\n",
        "if __name__ == \"__main__\":\n",
        "    main()\n"
      ],
      "metadata": {
        "id": "eWCBL9gXQU48"
      },
      "execution_count": null,
      "outputs": []
    },
    {
      "cell_type": "code",
      "source": [
        "from Bio.Seq import Seq\n",
        "from Bio.SeqUtils import MeltingTemp\n",
        "import csv\n",
        "import pandas as pd\n",
        "import seaborn as sns\n",
        "import matplotlib.pyplot as plt\n",
        "from scipy.stats import f_oneway\n",
        "\n",
        "def read_mrna_sequence(file_path):\n",
        "    with open(file_path, 'r') as file:\n",
        "        return Seq(file.read().strip())\n",
        "\n",
        "def generate_antisense_oligos(mrna_sequence):\n",
        "    antisense_oligos = [mrna_sequence.reverse_complement()[i:i+25] for i in range(len(mrna_sequence) - 24)]\n",
        "    return antisense_oligos\n",
        "\n",
        "def calculate_minimum_free_energy(oligo, temperature):\n",
        "    delta_g = -MeltingTemp.Tm_Wallace(str(oligo)) * (1.987 / 1000) * (temperature + 273.15) * 1.0 / 1000\n",
        "    return delta_g\n",
        "\n",
        "def calculate_gc_content(oligo):\n",
        "    return Seq(str(oligo)).count(\"G\") + Seq(str(oligo)).count(\"C\")\n",
        "\n",
        "def write_to_csv(data, filename):\n",
        "    with open(filename, 'w', newline='') as file:\n",
        "        writer = csv.writer(file)\n",
        "        writer.writerow(['Oligo', 'Minimum Free Energy (kcal/mol)', 'GC Content (%)'])\n",
        "        writer.writerows(data)\n",
        "\n",
        "def main():\n",
        "    mrna_sequence_file = '/content/NC_000011.10[62880098..62889656].fa.txt'\n",
        "    temperature = 37\n",
        "\n",
        "    mrna_sequence = read_mrna_sequence(mrna_sequence_file)\n",
        "    antisense_oligos = generate_antisense_oligos(mrna_sequence)\n",
        "\n",
        "    alignments_data = []\n",
        "\n",
        "    for oligo in antisense_oligos:\n",
        "        delta_g = calculate_minimum_free_energy(oligo, temperature)\n",
        "        gc_content = calculate_gc_content(oligo)\n",
        "        alignments_data.append((str(oligo), delta_g, gc_content))\n",
        "\n",
        "    # Sort alignments by minimum free energy\n",
        "    alignments_data.sort(key=lambda x: x[1])\n",
        "\n",
        "    # Write data to CSV file\n",
        "    csv_filename = 'oligo_data.csv'\n",
        "    write_to_csv(alignments_data, csv_filename)\n",
        "    print(f'Data written to {csv_filename}')\n",
        "\n",
        "    # Load data into a pandas DataFrame\n",
        "    df = pd.DataFrame(alignments_data, columns=['Oligo', 'Minimum Free Energy (kcal/mol)', 'GC Content (%)'])\n",
        "\n",
        "\n",
        "    # Plot the graph\n",
        "    plt.figure(figsize=(10, 6))\n",
        "    sns.scatterplot(data=df.head(10), x='GC Content (%)', y='Minimum Free Energy (kcal/mol)', hue='Oligo', s=100)\n",
        "    plt.title('GC Content vs Minimum Free Energy')\n",
        "    plt.xlabel('GC Content (%)')\n",
        "    plt.ylabel('Minimum Free Energy (kcal/mol)')\n",
        "    plt.legend(bbox_to_anchor=(1.05, 1), loc='upper left')\n",
        "    plt.show()\n",
        "\n",
        "if __name__ == \"__main__\":\n",
        "    main()\n"
      ],
      "metadata": {
        "id": "rNK_5fXtQ0JU"
      },
      "execution_count": null,
      "outputs": []
    },
    {
      "cell_type": "code",
      "source": [
        "def main():\n",
        "    mrna_sequence_file = '/content/NC_000011.10[62880098..62889656].fa.txt'\n",
        "    temperature = 37\n",
        "\n",
        "    mrna_sequence = read_mrna_sequence(mrna_sequence_file)\n",
        "    antisense_oligos = generate_antisense_oligos(mrna_sequence)\n",
        "\n",
        "    alignments_data = []\n",
        "\n",
        "    for oligo in antisense_oligos:\n",
        "        delta_g = calculate_minimum_free_energy(oligo, temperature)\n",
        "        gc_content = calculate_gc_content(oligo)\n",
        "        alignments_data.append((str(oligo), delta_g, gc_content))\n",
        "\n",
        "    # Sort alignments by minimum free energy\n",
        "    alignments_data.sort(key=lambda x: x[1])\n",
        "\n",
        "    # Write data to CSV file\n",
        "    csv_filename = 'oligo_data.csv'\n",
        "    write_to_csv(alignments_data, csv_filename)\n",
        "    print(f'Data written to {csv_filename}')\n",
        "\n",
        "    # Load data into a pandas DataFrame\n",
        "    df = pd.DataFrame(alignments_data, columns=['Oligo', 'Minimum Free Energy (kcal/mol)', 'GC Content (%)'])\n"
      ],
      "metadata": {
        "id": "UM3kXdoMRWKg"
      },
      "execution_count": 11,
      "outputs": []
    },
    {
      "cell_type": "code",
      "source": [
        "!pip install stats"
      ],
      "metadata": {
        "colab": {
          "base_uri": "https://localhost:8080/"
        },
        "id": "ux0ROrYJSSAW",
        "outputId": "02e01f88-be44-470c-e5fe-d84faa7f3fa6"
      },
      "execution_count": 12,
      "outputs": [
        {
          "output_type": "stream",
          "name": "stdout",
          "text": [
            "Requirement already satisfied: stats in /usr/local/lib/python3.10/dist-packages (0.1.2a0)\n"
          ]
        }
      ]
    },
    {
      "cell_type": "code",
      "source": [
        "!pip install scipy"
      ],
      "metadata": {
        "colab": {
          "base_uri": "https://localhost:8080/"
        },
        "id": "sDsxKy1ISh4p",
        "outputId": "52c4bfd6-dd02-40a5-ced2-8e2961ab8855"
      },
      "execution_count": 13,
      "outputs": [
        {
          "output_type": "stream",
          "name": "stdout",
          "text": [
            "Requirement already satisfied: scipy in /usr/local/lib/python3.10/dist-packages (1.11.4)\n",
            "Requirement already satisfied: numpy<1.28.0,>=1.21.6 in /usr/local/lib/python3.10/dist-packages (from scipy) (1.23.5)\n"
          ]
        }
      ]
    },
    {
      "cell_type": "code",
      "source": [
        "csv_filename = \"C:/Users/musty/Downloads/oligo_data.csv\""
      ],
      "metadata": {
        "id": "rhhBY9XwPKb8"
      },
      "execution_count": 14,
      "outputs": []
    },
    {
      "cell_type": "code",
      "source": [
        "from Bio.Seq import Seq\n",
        "from Bio.SeqUtils import MeltingTemp\n",
        "import csv\n",
        "import pandas as pd\n",
        "import scipy.stats as stats\n",
        "\n",
        "def read_mrna_sequence(file_path):\n",
        "    with open(file_path, 'r') as file:\n",
        "        return Seq(file.read().strip())\n",
        "\n",
        "def generate_antisense_oligos(mrna_sequence):\n",
        "    antisense_oligos = [mrna_sequence.reverse_complement()[i:i+25] for i in range(len(mrna_sequence) - 24)]\n",
        "    return antisense_oligos\n",
        "\n",
        "def calculate_minimum_free_energy(oligo, temperature):\n",
        "    delta_g = -MeltingTemp.Tm_Wallace(str(oligo)) * (1.987 / 1000) * (temperature + 273.15) * 1.0 / 1000\n",
        "    return delta_g\n",
        "\n",
        "def calculate_gc_content(oligo):\n",
        "    return Seq(str(oligo)).count(\"G\") + Seq(str(oligo)).count(\"C\")\n",
        "\n",
        "def write_to_csv(data, filename):\n",
        "    with open(filename, 'w', newline='') as file:\n",
        "        writer = csv.writer(file)\n",
        "        writer.writerow(['Oligo', 'Minimum Free Energy (kcal/mol)', 'GC Content (%)'])\n",
        "        writer.writerows(data)\n",
        "\n",
        "def main():\n",
        "    mrna_sequence_file = '/content/NC_000011.10[62880098..62889656].fa.txt'\n",
        "    temperature = 37\n",
        "\n",
        "    mrna_sequence = read_mrna_sequence(mrna_sequence_file)\n",
        "    antisense_oligos = generate_antisense_oligos(mrna_sequence)\n",
        "\n",
        "    alignments_data = []\n",
        "\n",
        "    for oligo in antisense_oligos:\n",
        "        delta_g = calculate_minimum_free_energy(oligo, temperature)\n",
        "        gc_content = calculate_gc_content(oligo)\n",
        "        alignments_data.append((str(oligo), delta_g, gc_content))\n",
        "\n",
        "    # Sort alignments by minimum free energy\n",
        "    alignments_data.sort(key=lambda x: x[1])\n",
        "\n",
        "    # Write data to CSV file\n",
        "    csv_filename = 'oligo_data.csv'\n",
        "    write_to_csv(alignments_data, csv_filename)\n",
        "    print(f'Data written to {csv_filename}')\n",
        "\n",
        "    # Load data into a pandas DataFrame\n",
        "    df = pd.DataFrame(alignments_data, columns=['Oligo', 'Minimum Free Energy (kcal/mol)', 'GC Content (%)'])\n",
        "\n",
        "    # Perform a t-test as an example\n",
        "    group1 = df.head(1000)['Minimum Free Energy (kcal/mol)']\n",
        "    group2 = df.tail(1000)['Minimum Free Energy (kcal/mol)']\n",
        "\n",
        "    t_stat, p_value = stats.ttest_ind(group1, group2)\n",
        "\n",
        "    # Print the t-statistic and p-value\n",
        "    print(f'\\nT-statistic: {t_stat:.4f}')\n",
        "    print(f'P-value: {p_value:.4f}')\n",
        "\n",
        "if __name__ == \"__main__\":\n",
        "    main()\n"
      ],
      "metadata": {
        "colab": {
          "base_uri": "https://localhost:8080/"
        },
        "id": "JozQ7WsCT5hZ",
        "outputId": "c50cf81e-9b99-4c4f-b989-d46ac6452e5a"
      },
      "execution_count": 26,
      "outputs": [
        {
          "output_type": "stream",
          "name": "stdout",
          "text": [
            "Data written to oligo_data.csv\n",
            "\n",
            "T-statistic: -182.0283\n",
            "P-value: 0.0000\n"
          ]
        }
      ]
    },
    {
      "cell_type": "code",
      "source": [
        "from Bio.Seq import Seq\n",
        "from Bio.SeqUtils import MeltingTemp\n",
        "import csv\n",
        "import pandas as pd\n",
        "import scipy.stats as stats\n",
        "import matplotlib.pyplot as plt\n",
        "\n",
        "def read_mrna_sequence(file_path):\n",
        "    with open(file_path, 'r') as file:\n",
        "        return Seq(file.read().strip())\n",
        "\n",
        "def generate_antisense_oligos(mrna_sequence, oligo_length=25):\n",
        "    antisense_oligos = [mrna_sequence.reverse_complement()[i:i+oligo_length] for i in range(len(mrna_sequence) - (oligo_length - 1))]\n",
        "    return antisense_oligos\n",
        "\n",
        "def calculate_minimum_free_energy(oligo, temperature):\n",
        "    delta_g = -MeltingTemp.Tm_Wallace(str(oligo)) * (1.987 / 1000) * (temperature + 273.15) * 1.0 / 1000\n",
        "    return delta_g\n",
        "\n",
        "def calculate_gc_content(oligo):\n",
        "    return Seq(str(oligo)).count(\"G\") + Seq(str(oligo)).count(\"C\")\n",
        "\n",
        "def calculate_alignment_percentage(oligo, mrna_sequence):\n",
        "    alignment_length = sum(1 for a, b in zip(oligo, mrna_sequence) if a == b)\n",
        "    return (alignment_length / len(oligo)) * 100\n",
        "\n",
        "def calculate_combined_score(gc_content, alignment_percentage):\n",
        "    # Adjust weights based on your preference\n",
        "    weight_gc = 0.7\n",
        "    weight_alignment = 0.3\n",
        "    combined_score = (weight_gc * gc_content) + (weight_alignment * alignment_percentage)\n",
        "    return combined_score\n",
        "\n",
        "def write_to_csv(data, filename):\n",
        "    with open(filename, 'w', newline='') as file:\n",
        "        writer = csv.writer(file)\n",
        "        writer.writerow(['Oligo', 'Minimum Free Energy (kcal/mol)', 'GC Content (%)', 'Alignment Percentage (%)', 'Combined Score'])\n",
        "        writer.writerows(data)\n",
        "\n",
        "def main():\n",
        "    mrna_sequence_file = '/content/NC_000011.10[62880098..62889656].fa.txt'\n",
        "    temperature = 37\n",
        "\n",
        "    mrna_sequence = read_mrna_sequence(mrna_sequence_file)\n",
        "    antisense_oligos = generate_antisense_oligos(mrna_sequence, oligo_length=25)\n",
        "\n",
        "    alignments_data = []\n",
        "\n",
        "    for oligo in antisense_oligos:\n",
        "        delta_g = calculate_minimum_free_energy(oligo, temperature)\n",
        "        gc_content = calculate_gc_content(oligo)\n",
        "        alignment_percentage = calculate_alignment_percentage(oligo, mrna_sequence)\n",
        "        combined_score = calculate_combined_score(gc_content, alignment_percentage)\n",
        "        alignments_data.append((str(oligo), delta_g, gc_content, alignment_percentage, combined_score))\n",
        "\n",
        "    # Sort alignments by the combined score in descending order\n",
        "    alignments_data.sort(key=lambda x: x[4], reverse=True)\n",
        "\n",
        "    # Write data to CSV file\n",
        "    csv_filename = 'oligo_data_combined.csv'\n",
        "    write_to_csv(alignments_data, csv_filename)\n",
        "    print(f'Data written to {csv_filename}')\n",
        "\n",
        "    # Plot the graph\n",
        "    gc_contents = [gc_content for _, _, gc_content, _, _ in alignments_data]\n",
        "    combined_scores = [combined_score for _, _, _, _, combined_score in alignments_data]\n",
        "\n",
        "    plt.figure(figsize=(10, 6))\n",
        "    plt.scatter(gc_contents, combined_scores, color='blue', marker='o')\n",
        "    plt.title('GC Content vs Combined Score')\n",
        "    plt.xlabel('GC Content (%)')\n",
        "    plt.ylabel('Combined Score')\n",
        "\n",
        "    # Annotate the points with the corresponding oligo index\n",
        "    for i, (oligo, _, _, _, _) in enumerate(alignments_data[:10]):\n",
        "        plt.annotate(f'{i + 1}.', (gc_contents[i], combined_scores[i]))\n",
        "\n",
        "    plt.show()\n",
        "\n",
        "if __name__ == \"__main__\":\n",
        "    main()\n"
      ],
      "metadata": {
        "id": "wWnnSNCl2Hf1"
      },
      "execution_count": null,
      "outputs": []
    },
    {
      "cell_type": "code",
      "source": [
        "import pandas as pd\n",
        "import numpy as np\n",
        "import scipy.stats as stats\n",
        "\n",
        "def main():\n",
        "    # Read the data\n",
        "    df = pd.read_csv('oligo_data_combined.csv')\n",
        "\n",
        "    # Perform a t-test as an example\n",
        "    group1 = df.head(1000)['Minimum Free Energy (kcal/mol)']\n",
        "    group2 = df.tail(1000)['Minimum Free Energy (kcal/mol)']\n",
        "\n",
        "    t_stat, p_value = stats.ttest_ind(group1, group2)\n",
        "\n",
        "    # Print the t-statistic and p-value\n",
        "    print(f'\\nT-statistic: {t_stat:.4f}')\n",
        "    print(f'P-value: {p_value:.4f}')\n",
        "\n",
        "if __name__ == \"__main__\":\n",
        "    main()"
      ],
      "metadata": {
        "colab": {
          "base_uri": "https://localhost:8080/"
        },
        "id": "mhQcAM184O9l",
        "outputId": "55329390-c674-41f7-c7af-655945635488"
      },
      "execution_count": 35,
      "outputs": [
        {
          "output_type": "stream",
          "name": "stdout",
          "text": [
            "\n",
            "T-statistic: -62.7681\n",
            "P-value: 0.0000\n"
          ]
        }
      ]
    }
  ]
}