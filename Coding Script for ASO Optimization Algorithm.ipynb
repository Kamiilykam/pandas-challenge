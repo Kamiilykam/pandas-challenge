{
  "nbformat": 4,
  "nbformat_minor": 0,
  "metadata": {
    "colab": {
      "provenance": [],
      "authorship_tag": "ABX9TyOolR0VlFHDPAz5Uf12FMzY",
      "include_colab_link": true
    },
    "kernelspec": {
      "name": "python3",
      "display_name": "Python 3"
    },
    "language_info": {
      "name": "python"
    }
  },
  "cells": [
    {
      "cell_type": "markdown",
      "metadata": {
        "id": "view-in-github",
        "colab_type": "text"
      },
      "source": [
        "<a href=\"https://colab.research.google.com/github/Kamiilykam/pandas-challenge/blob/master/Coding%20Script%20for%20ASO%20Optimization%20Algorithm.ipynb\" target=\"_parent\"><img src=\"https://colab.research.google.com/assets/colab-badge.svg\" alt=\"Open In Colab\"/></a>"
      ]
    },
    {
      "cell_type": "markdown",
      "source": [
        "# Install Packages\n"
      ],
      "metadata": {
        "id": "wLIzkge9pYTG"
      }
    },
    {
      "cell_type": "code",
      "source": [
        "pip install biopython"
      ],
      "metadata": {
        "id": "-a3m429_tUD_"
      },
      "execution_count": null,
      "outputs": []
    },
    {
      "cell_type": "code",
      "source": [
        "import pandas as pd"
      ],
      "metadata": {
        "id": "Ct9yc-NrKsl2"
      },
      "execution_count": null,
      "outputs": []
    },
    {
      "cell_type": "code",
      "source": [
        "from Bio.Seq import Seq\n",
        "from Bio.SeqUtils import MeltingTemp"
      ],
      "metadata": {
        "id": "yfgkijoYFe8_"
      },
      "execution_count": null,
      "outputs": []
    },
    {
      "cell_type": "code",
      "source": [
        "!pip install stats"
      ],
      "metadata": {
        "id": "ux0ROrYJSSAW"
      },
      "execution_count": null,
      "outputs": []
    },
    {
      "cell_type": "code",
      "source": [
        "!pip install scipy"
      ],
      "metadata": {
        "id": "sDsxKy1ISh4p"
      },
      "execution_count": null,
      "outputs": []
    },
    {
      "cell_type": "code",
      "source": [
        "from Bio.Seq import Seq\n",
        "from Bio.SeqUtils import MeltingTemp\n",
        "import csv\n",
        "import pandas as pd\n",
        "import scipy.stats as stats\n",
        "import matplotlib.pyplot as plt\n",
        "\n",
        "def read_mrna_sequence(file_path):\n",
        "    with open(file_path, 'r') as file:\n",
        "        return Seq(file.read().strip())\n",
        "\n",
        "def generate_antisense_oligos(mrna_sequence, oligo_length=25):\n",
        "    antisense_oligos = [mrna_sequence.reverse_complement()[i:i+oligo_length] for i in range(len(mrna_sequence) - (oligo_length - 1))]\n",
        "    return antisense_oligos\n",
        "\n",
        "def calculate_minimum_free_energy(oligo, temperature):\n",
        "    delta_g = -MeltingTemp.Tm_Wallace(str(oligo)) * (1.987 / 1000) * (temperature + 273.15) * 1.0 / 1000\n",
        "    return delta_g\n",
        "\n",
        "def calculate_gc_content(oligo):\n",
        "    return Seq(str(oligo)).count(\"G\") + Seq(str(oligo)).count(\"C\")\n",
        "\n",
        "def calculate_alignment_percentage(oligo, mrna_sequence):\n",
        "    alignment_length = sum(1 for a, b in zip(oligo, mrna_sequence) if a == b)\n",
        "    return (alignment_length / len(oligo)) * 100\n",
        "\n",
        "def calculate_combined_score(gc_content, alignment_percentage):\n",
        "    # Adjust weights based on your preference\n",
        "    weight_gc = 0.7\n",
        "    weight_alignment = 0.3\n",
        "    combined_score = (weight_gc * gc_content) + (weight_alignment * alignment_percentage)\n",
        "    return combined_score\n",
        "\n",
        "def write_to_csv(data, filename):\n",
        "    with open(filename, 'w', newline='') as file:\n",
        "        writer = csv.writer(file)\n",
        "        writer.writerow(['Oligo', 'Minimum Free Energy (kcal/mol)', 'GC Content (%)', 'Alignment Percentage (%)', 'Combined Score'])\n",
        "        writer.writerows(data)\n",
        "\n",
        "def main():\n",
        "    mrna_sequence_file = '/content/NC_000011.10[62880098..62889656].fa.txt'\n",
        "    temperature = 37\n",
        "\n",
        "    mrna_sequence = read_mrna_sequence(mrna_sequence_file)\n",
        "    antisense_oligos = generate_antisense_oligos(mrna_sequence, oligo_length=25)\n",
        "\n",
        "    alignments_data = []\n",
        "\n",
        "    for oligo in antisense_oligos:\n",
        "        delta_g = calculate_minimum_free_energy(oligo, temperature)\n",
        "        gc_content = calculate_gc_content(oligo)\n",
        "        alignment_percentage = calculate_alignment_percentage(oligo, mrna_sequence)\n",
        "        combined_score = calculate_combined_score(gc_content, alignment_percentage)\n",
        "        alignments_data.append((str(oligo), delta_g, gc_content, alignment_percentage, combined_score))\n",
        "\n",
        "    # Sort alignments by the combined score in descending order\n",
        "    alignments_data.sort(key=lambda x: x[4], reverse=True)\n",
        "\n",
        "    # Write data to CSV file\n",
        "    csv_filename = 'oligo_data_combined.csv'\n",
        "    write_to_csv(alignments_data, csv_filename)\n",
        "    print(f'Data written to {csv_filename}')\n",
        "\n",
        "    # Plot the graph\n",
        "    gc_contents = [gc_content for _, _, gc_content, _, _ in alignments_data]\n",
        "    combined_scores = [combined_score for _, _, _, _, combined_score in alignments_data]\n",
        "\n",
        "    plt.figure(figsize=(10, 6))\n",
        "    plt.scatter(gc_contents, combined_scores, color='blue', marker='o')\n",
        "    plt.title('GC Content vs Combined Score')\n",
        "    plt.xlabel('GC Content (%)')\n",
        "    plt.ylabel('Combined Score')\n",
        "\n",
        "    # Annotate the points with the corresponding oligo index\n",
        "    for i, (oligo, _, _, _, _) in enumerate(alignments_data[:10]):\n",
        "        plt.annotate(f'{i + 1}.', (gc_contents[i], combined_scores[i]))\n",
        "\n",
        "    plt.show()\n",
        "\n",
        "if __name__ == \"__main__\":\n",
        "    main()\n"
      ],
      "metadata": {
        "id": "wWnnSNCl2Hf1"
      },
      "execution_count": null,
      "outputs": []
    },
    {
      "cell_type": "code",
      "source": [
        "import pandas as pd\n",
        "import numpy as np\n",
        "import scipy.stats as stats\n",
        "\n",
        "def main():\n",
        "    # Read the data\n",
        "    df = pd.read_csv('oligo_data_combined.csv')\n",
        "\n",
        "    # Perform a t-test as an example\n",
        "    group1 = df.head(1000)['Minimum Free Energy (kcal/mol)']\n",
        "    group2 = df.tail(1000)['Minimum Free Energy (kcal/mol)']\n",
        "\n",
        "    t_stat, p_value = stats.ttest_ind(group1, group2)\n",
        "\n",
        "    # Print the t-statistic and p-value\n",
        "    print(f'\\nT-statistic: {t_stat:.4f}')\n",
        "    print(f'P-value: {p_value:.4f}')\n",
        "\n",
        "if __name__ == \"__main__\":\n",
        "    main()"
      ],
      "metadata": {
        "colab": {
          "base_uri": "https://localhost:8080/"
        },
        "id": "mhQcAM184O9l",
        "outputId": "55329390-c674-41f7-c7af-655945635488"
      },
      "execution_count": null,
      "outputs": [
        {
          "output_type": "stream",
          "name": "stdout",
          "text": [
            "\n",
            "T-statistic: -62.7681\n",
            "P-value: 0.0000\n"
          ]
        }
      ]
    }
  ]
}